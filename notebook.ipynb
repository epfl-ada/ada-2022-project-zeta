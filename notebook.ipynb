{
 "cells": [
  {
   "cell_type": "code",
   "execution_count": null,
   "metadata": {},
   "outputs": [],
   "source": [
    "import pandas as pd\n",
    "\n",
    "pd.set_option(\"display.max_columns\", None)"
   ]
  },
  {
   "cell_type": "code",
   "execution_count": null,
   "metadata": {},
   "outputs": [],
   "source": [
    "DATA_PATH = \"./data/\""
   ]
  },
  {
   "cell_type": "markdown",
   "metadata": {},
   "source": [
    "# Interventions\n",
    "\n",
    "This dataset contains a series of important dates associated with the pandemic for different countries.\n",
    "\n",
    "We augment the dataset by adding columns that represent how long it took for measures to be imposed after the first case, and how long the abnormal mobility period lasted for. These values can tell us how quick governments were to respond and how long they imposed measures for."
   ]
  },
  {
   "cell_type": "code",
   "execution_count": null,
   "metadata": {},
   "outputs": [],
   "source": [
    "interventions = pd.read_csv(DATA_PATH + \"interventions.csv\", index_col=\"lang\")\n",
    "\n",
    "# Convert columns to datetime\n",
    "interventions = interventions.apply(pd.to_datetime)\n",
    "\n",
    "# Period between date of 1st case and date of first imposed measure\n",
    "interventions[\"Response time\"] = (\n",
    "    interventions[[\"School closure\", \"Public events banned\", \"Lockdown\"]].min(axis=1)\n",
    "    - interventions[\"1st case\"]\n",
    ")\n",
    "\n",
    "# Duration of abnormal mobility\n",
    "interventions[\"Reduced mobility\"] = (\n",
    "    interventions[\"Normalcy\"] - interventions[\"Mobility\"]\n",
    ")\n",
    "\n",
    "interventions"
   ]
  },
  {
   "cell_type": "markdown",
   "metadata": {},
   "source": [
    "# Google Mobility Data"
   ]
  },
  {
   "cell_type": "code",
   "execution_count": null,
   "metadata": {},
   "outputs": [],
   "source": [
    "mobility_data = pd.read_csv(\n",
    "    DATA_PATH + \"Global_Mobility_Report.csv.gz\", parse_dates=[\"date\"], low_memory=False,\n",
    ")\n",
    "\n",
    "mobility_data.head()"
   ]
  },
  {
   "cell_type": "markdown",
   "metadata": {},
   "source": [
    "# Apple Mobility Data"
   ]
  },
  {
   "cell_type": "code",
   "execution_count": null,
   "metadata": {},
   "outputs": [],
   "source": [
    "transport_data = pd.read_csv(\n",
    "    DATA_PATH + \"applemobilitytrends-2020-04-20.csv.gz\",\n",
    "    index_col=[\"region\", \"transportation_type\"],\n",
    ")\n",
    "\n",
    "transport_data.head()"
   ]
  },
  {
   "cell_type": "markdown",
   "metadata": {},
   "source": [
    "# Wikipedia Page Topics"
   ]
  },
  {
   "cell_type": "code",
   "execution_count": null,
   "metadata": {},
   "outputs": [],
   "source": [
    "topics_linked = pd.read_csv(DATA_PATH + \"topics_linked.csv.xz\", index_col=\"index\")\n",
    "\n",
    "topics_linked.head()"
   ]
  },
  {
   "cell_type": "markdown",
   "metadata": {},
   "source": [
    "# Aggregated Time Series of Wikipedia Pageviews"
   ]
  },
  {
   "cell_type": "code",
   "execution_count": null,
   "metadata": {},
   "outputs": [],
   "source": [
    "pageviews = pd.read_json(DATA_PATH + \"aggregated_timeseries.json.gz\")\n",
    "\n",
    "pageviews"
   ]
  }
 ],
 "metadata": {
  "kernelspec": {
   "display_name": "Python 3.9.13 ('ada')",
   "language": "python",
   "name": "python3"
  },
  "language_info": {
   "codemirror_mode": {
    "name": "ipython",
    "version": 3
   },
   "file_extension": ".py",
   "mimetype": "text/x-python",
   "name": "python",
   "nbconvert_exporter": "python",
   "pygments_lexer": "ipython3",
   "version": "3.9.13"
  },
  "orig_nbformat": 4,
  "vscode": {
   "interpreter": {
    "hash": "376a6032431ced2e6483e7b4bbdfd68f63e286d569c9c5ecd0794844e706ec45"
   }
  }
 },
 "nbformat": 4,
 "nbformat_minor": 2
}
