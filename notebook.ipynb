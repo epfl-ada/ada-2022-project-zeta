{
 "cells": [
  {
   "cell_type": "code",
   "execution_count": null,
   "metadata": {},
   "outputs": [],
   "source": [
    "import pandas as pd"
   ]
  },
  {
   "cell_type": "code",
   "execution_count": null,
   "metadata": {},
   "outputs": [],
   "source": [
    "DATA_PATH = \"./data/\""
   ]
  },
  {
   "cell_type": "code",
   "execution_count": null,
   "metadata": {},
   "outputs": [],
   "source": [
    "interventions = pd.read_csv(DATA_PATH + \"interventions.csv\")\n",
    "\n",
    "interventions.head()"
   ]
  },
  {
   "cell_type": "code",
   "execution_count": null,
   "metadata": {},
   "outputs": [],
   "source": [
    "mobility_data = pd.read_csv(\n",
    "    DATA_PATH + \"Global_Mobility_Report.csv.gz\",\n",
    "    parse_dates=[\"date\"],\n",
    "    compression=\"gzip\",\n",
    "    low_memory=False,\n",
    ")\n",
    "\n",
    "mobility_data.head()"
   ]
  },
  {
   "cell_type": "code",
   "execution_count": null,
   "metadata": {},
   "outputs": [],
   "source": [
    "transport_data = pd.read_csv(\n",
    "    DATA_PATH + \"applemobilitytrends-2020-04-20.csv.gz\", compression=\"gzip\"\n",
    ")\n",
    "\n",
    "transport_data.head()"
   ]
  },
  {
   "cell_type": "code",
   "execution_count": null,
   "metadata": {},
   "outputs": [],
   "source": [
    "topics_linked = pd.read_csv(DATA_PATH + \"topics_linked.csv.xz\")\n",
    "\n",
    "topics_linked.head()"
   ]
  },
  {
   "cell_type": "code",
   "execution_count": null,
   "metadata": {},
   "outputs": [],
   "source": [
    "pageviews = pd.read_json(\n",
    "    DATA_PATH + \"aggregated_timeseries.json.gz\", compression=\"gzip\"\n",
    ")\n",
    "\n",
    "pageviews.head()"
   ]
  }
 ],
 "metadata": {
  "kernelspec": {
   "display_name": "Python 3.9.13 ('ada')",
   "language": "python",
   "name": "python3"
  },
  "language_info": {
   "codemirror_mode": {
    "name": "ipython",
    "version": 3
   },
   "file_extension": ".py",
   "mimetype": "text/x-python",
   "name": "python",
   "nbconvert_exporter": "python",
   "pygments_lexer": "ipython3",
   "version": "3.9.13"
  },
  "orig_nbformat": 4,
  "vscode": {
   "interpreter": {
    "hash": "376a6032431ced2e6483e7b4bbdfd68f63e286d569c9c5ecd0794844e706ec45"
   }
  }
 },
 "nbformat": 4,
 "nbformat_minor": 2
}
